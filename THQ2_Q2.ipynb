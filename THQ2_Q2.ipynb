{
 "cells": [
  {
   "cell_type": "code",
   "execution_count": 1,
   "metadata": {},
   "outputs": [
    {
     "name": "stdout",
     "output_type": "stream",
     "text": [
      "   Output_Q  Labour_L  Capital_K\n",
      "0        80        60         50\n",
      "1       150       100        100\n",
      "2       135       100         80\n",
      "3       165       120        100\n",
      "4        95        70         60\n",
      "5       130        90         80\n",
      "6       110        80         70\n"
     ]
    }
   ],
   "source": [
    "import pandas as pd\n",
    "import numpy as np\n",
    "## input data\n",
    "Q=np.array([80,150,135,165,95,130,110])\n",
    "L=np.array([60,100,100,120,70,90,80])\n",
    "K=np.array([50,100,80,100,60,80,70])\n",
    "a=[Q,L,K];     y=[]\n",
    "for i in range(len(a[0])):\n",
    "    n = []\n",
    "    for j in range(len(a)):\n",
    "        n.append(a[j][i])\n",
    "    y.append(n)\n",
    "feature_names=np.array(['Output_Q','Labour_L','Capital_K'])\n",
    "df = pd.DataFrame(data=y, columns=feature_names);    print(df)"
   ]
  },
  {
   "cell_type": "code",
   "execution_count": 2,
   "metadata": {},
   "outputs": [
    {
     "name": "stdout",
     "output_type": "stream",
     "text": [
      "                      Output_Q    Labour_L   Capital_K\n",
      "mean                123.571429   88.571429   77.142857\n",
      "variance            914.285714  414.285714  357.142857\n",
      "standard deviation   30.237158   20.354010   18.898224\n",
      "median values       130.000000   90.000000   80.000000\n"
     ]
    }
   ],
   "source": [
    "###Question2_a\n",
    "##mean and variance\n",
    "mean_df=df.mean();     var_df=df.var()\n",
    "##standard deviation and median values\n",
    "std_df=df.std();           mv_df=df.median()\n",
    "## transform\n",
    "mean_df=np.array(mean_df);    var_df=np.array(var_df)\n",
    "std_df=np.array(std_df);          mv_df=np.array(mv_df)\n",
    "##putinto one array\n",
    "Q2_a=[mean_df, var_df, std_df, mv_df]\n",
    "index_names=np.array(['mean','variance','standard deviation','median values'])\n",
    "## dataframe\n",
    "Q2_a = pd.DataFrame(data=Q2_a, columns=feature_names,index=index_names)\n",
    "## print answer\n",
    "print(Q2_a)"
   ]
  },
  {
   "cell_type": "code",
   "execution_count": 14,
   "metadata": {},
   "outputs": [
    {
     "data": {
      "image/png": "[encoded data removed]",
      "text/plain": [
       "<Figure size 432x288 with 1 Axes>"
      ]
     },
     "metadata": {
      "needs_background": "light"
     },
     "output_type": "display_data"
    },
    {
     "data": {
      "image/png": "[encoded data removed]",
      "text/plain": [
       "<Figure size 432x288 with 1 Axes>"
      ]
     },
     "metadata": {
      "needs_background": "light"
     },
     "output_type": "display_data"
    }
   ],
   "source": [
    "###Question2_b\n",
    "import seaborn as sns\n",
    "import matplotlib.pyplot as plt\n",
    "fig = plt.figure();   x = df['Output_Q']\n",
    "ax = fig.add_subplot(111);  numBins = 20\n",
    "ax.hist(x,numBins,color='blue',alpha=0.8,rwidth=0.9)\n",
    "plt.grid(True);   plt.title(u'Output_Q');  plt.show()\n",
    "fig = plt.figure();   x = df['Labour_L']\n",
    "ax = fig.add_subplot(111);  numBins = 20\n",
    "ax.hist(x,numBins,color='red',alpha=0.8,rwidth=0.9)\n",
    "plt.grid(True);   plt.title(u'Labour_L');  plt.show()"
   ]
  },
  {
   "cell_type": "code",
   "execution_count": 4,
   "metadata": {},
   "outputs": [
    {
     "name": "stdout",
     "output_type": "stream",
     "text": [
      "log value:\n",
      " [[4.38202663 4.09434456 3.91202301]\n",
      " [5.01063529 4.60517019 4.60517019]\n",
      " [4.90527478 4.60517019 4.38202663]\n",
      " [5.10594547 4.78749174 4.60517019]\n",
      " [4.55387689 4.24849524 4.09434456]\n",
      " [4.86753445 4.49980967 4.38202663]\n",
      " [4.70048037 4.38202663 4.24849524]]\n"
     ]
    }
   ],
   "source": [
    "###Question2_c\n",
    "log_y=np.log(y)\n",
    "print('log value:\\n',log_y)"
   ]
  },
  {
   "cell_type": "code",
   "execution_count": 8,
   "metadata": {},
   "outputs": [
    {
     "name": "stdout",
     "output_type": "stream",
     "text": [
      "coefficients alpha and beta:\n",
      "[0.54842747 0.50874094]\n",
      "intercept logA is:\n",
      "0.14623321175616866\n",
      "the sum of alpha and beta value is:\n",
      " 1.0571684057723618\n"
     ]
    }
   ],
   "source": [
    "###Question2_d\n",
    "from sklearn.linear_model import LinearRegression\n",
    "from sklearn import linear_model\n",
    "x= log_y[0:,1:]\n",
    "y = log_y[0:,0]\n",
    "lr = linear_model.LinearRegression()\n",
    "lr.fit(x, y)\n",
    "alpha_beta=sum(lr.coef_)\n",
    "\n",
    "print(\"coefficients alpha and beta:\")\n",
    "print(lr.coef_)\n",
    "print(\"intercept logA is:\")\n",
    "print(lr.intercept_)\n",
    "print(\"the sum of alpha and beta value is:\\n\",alpha_beta)"
   ]
  },
  {
   "cell_type": "code",
   "execution_count": 9,
   "metadata": {},
   "outputs": [
    {
     "data": {
      "text/plain": [
       "<matplotlib.lines.Line2D at 0x1a1a54aa90>"
      ]
     },
     "execution_count": 9,
     "metadata": {},
     "output_type": "execute_result"
    },
    {
     "data": {
      "image/png": "[encoded data removed]",
      "text/plain": [
       "<Figure size 432x288 with 1 Axes>"
      ]
     },
     "metadata": {
      "needs_background": "light"
     },
     "output_type": "display_data"
    }
   ],
   "source": [
    "###Question2_e\n",
    "pre_y=lr.predict(x)\n",
    "residuals=pre_y-y;   fig, ax = plt.subplots()\n",
    "index=[1,2,3,4,5,6,7]\n",
    "ax.scatter(index,residuals, alpha=0.6)\n",
    "plt.title('residual plot');    plt.axhline(y=0,color='red')"
   ]
  },
  {
   "cell_type": "code",
   "execution_count": 13,
   "metadata": {},
   "outputs": [
    {
     "name": "stdout",
     "output_type": "stream",
     "text": [
      "the number of samples is: 7\n",
      "the nemuber of predicted variables is: 2\n",
      "Adjusted R square is: 0.9968763418198051\n"
     ]
    }
   ],
   "source": [
    "###Question2_f\n",
    "RR=lr.score(x, y)   \n",
    "n=len(x); p=x.shape[1]\n",
    "Adjust_RR=1-(1-RR)*(n-1)/(n-p-1)\n",
    "print('the number of samples is:',n)\n",
    "print('the nemuber of predicted variables is:',p)\n",
    "print('Adjusted R square is:', Adjust_RR)"
   ]
  },
  {
   "cell_type": "code",
   "execution_count": null,
   "metadata": {},
   "outputs": [],
   "source": []
  }
 ],
 "metadata": {
  "kernelspec": {
   "display_name": "Python 3",
   "language": "python",
   "name": "python3"
  },
  "language_info": {
   "codemirror_mode": {
    "name": "ipython",
    "version": 3
   },
   "file_extension": ".py",
   "mimetype": "text/x-python",
   "name": "python",
   "nbconvert_exporter": "python",
   "pygments_lexer": "ipython3",
   "version": "3.7.3"
  }
 },
 "nbformat": 4,
 "nbformat_minor": 2
}
